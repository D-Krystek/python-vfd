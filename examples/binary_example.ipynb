{
 "cells": [
  {
   "cell_type": "code",
   "execution_count": null,
   "metadata": {},
   "outputs": [],
   "source": [
    "0xff"
   ]
  },
  {
   "cell_type": "code",
   "execution_count": null,
   "metadata": {},
   "outputs": [],
   "source": [
    "# \"b\" stands for \"bytes\" here. Kind of like a string, but representing data. Usually\r\n",
    "# received in serial data transmission like in RS485 Modbus RTU.\r\n",
    "b\"\\xff\".hex()"
   ]
  },
  {
   "cell_type": "code",
   "execution_count": null,
   "metadata": {},
   "outputs": [],
   "source": [
    "# Byte order is either \"big endian\" or \"little endian\". \"Big endian\" means that the\r\n",
    "# left-hand-side of the string of binary/octal/hex/decimal/whatever digits is most\r\n",
    "# significant/biggest.\r\n",
    "BYTES = b\"\\x00\\xff\"\r\n",
    "bytes_as_int = int.from_bytes(BYTES, byteorder=\"big\")"
   ]
  },
  {
   "cell_type": "code",
   "execution_count": null,
   "metadata": {},
   "outputs": [],
   "source": [
    "# The same byte string can mean different things depending on whether it is read from\r\n",
    "# left-to-right or right-to-left.\r\n",
    "int.from_bytes(BYTES, byteorder=\"little\")"
   ]
  },
  {
   "cell_type": "markdown",
   "metadata": {},
   "source": [
    "### Two different ways to go from `BYTES` to a human-readable representation (without all the `\\x` delimiters)"
   ]
  },
  {
   "cell_type": "code",
   "execution_count": null,
   "metadata": {},
   "outputs": [],
   "source": [
    "# This gives us a string w/ the \"0x\" prefix indicating hexadecimal.\r\n",
    "hex(bytes_as_int)"
   ]
  },
  {
   "cell_type": "code",
   "execution_count": null,
   "metadata": {},
   "outputs": [],
   "source": [
    "# Note how this one preserves the leading \"00\", since sometimes the length of our\r\n",
    "# \"words\" matters. This one also doesn't have \"0x\", but we could add it trivially.\r\n",
    "BYTES.hex()"
   ]
  },
  {
   "cell_type": "code",
   "execution_count": null,
   "metadata": {},
   "outputs": [],
   "source": [
    "# With some work, we could get our `BYTES.hex()` approach to look similarly to the first\r\n",
    "# example. We strip off leading zeros and prepend \"0x\" manually.\r\n",
    "\"0x\" + BYTES.hex().lstrip(\"0\")"
   ]
  },
  {
   "cell_type": "markdown",
   "metadata": {},
   "source": [
    "### The following are all different representations of the decimal value \"255\""
   ]
  },
  {
   "cell_type": "code",
   "execution_count": null,
   "metadata": {},
   "outputs": [],
   "source": [
    "hex(255)"
   ]
  },
  {
   "cell_type": "code",
   "execution_count": null,
   "metadata": {},
   "outputs": [],
   "source": [
    "bin(255)"
   ]
  },
  {
   "cell_type": "code",
   "execution_count": null,
   "metadata": {},
   "outputs": [],
   "source": [
    "bin(0xff)"
   ]
  }
 ],
 "metadata": {
  "kernelspec": {
   "display_name": "Python 3.8.8 64-bit ('.venv')",
   "name": "python388jvsc74a57bd0ae93bb8f597bf2723017eeddcb3efabf26d11d8e6620c87a487655f20723ddab"
  },
  "language_info": {
   "codemirror_mode": {
    "name": "ipython",
    "version": 3
   },
   "file_extension": ".py",
   "mimetype": "text/x-python",
   "name": "python",
   "nbconvert_exporter": "python",
   "pygments_lexer": "ipython3",
   "version": "3.8.8"
  },
  "metadata": {
   "interpreter": {
    "hash": "ae93bb8f597bf2723017eeddcb3efabf26d11d8e6620c87a487655f20723ddab"
   }
  }
 },
 "nbformat": 4,
 "nbformat_minor": 2
}
